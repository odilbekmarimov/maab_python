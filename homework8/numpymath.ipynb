{
 "cells": [
  {
   "cell_type": "code",
   "execution_count": 68,
   "metadata": {},
   "outputs": [],
   "source": [
    "import numpy as np"
   ]
  },
  {
   "cell_type": "markdown",
   "metadata": {},
   "source": [
    "#  1"
   ]
  },
  {
   "cell_type": "code",
   "execution_count": 69,
   "metadata": {},
   "outputs": [
    {
     "name": "stdout",
     "output_type": "stream",
     "text": [
      "add: [[ 2  4  6]\n",
      " [ 8 10 12]\n",
      " [14 16 18]] \n",
      "subtract: [[0 0 0]\n",
      " [0 0 0]\n",
      " [0 0 0]] \n",
      "multiply: [[ 1  4  9]\n",
      " [16 25 36]\n",
      " [49 64 81]] \n",
      "divide: [[1. 1. 1.]\n",
      " [1. 1. 1.]\n",
      " [1. 1. 1.]]\n"
     ]
    }
   ],
   "source": [
    "a = np.array ([[1,2,3],[4,5,6],[7,8,9]])\n",
    "b = np.array ([[1,2,3],[4,5,6],[7,8,9]])\n",
    "addition = np.add(a,b)\n",
    "subtraction = np.subtract(a,b)\n",
    "multiplication = np.multiply(a,b)\n",
    "division = np.divide(a,b)\n",
    "\n",
    "print(f\"add: {addition} \\nsubtract: {subtraction} \\nmultiply: {multiplication} \\ndivide: {division}\")"
   ]
  },
  {
   "cell_type": "markdown",
   "metadata": {},
   "source": [
    "#  2"
   ]
  },
  {
   "cell_type": "code",
   "execution_count": 70,
   "metadata": {},
   "outputs": [
    {
     "name": "stdout",
     "output_type": "stream",
     "text": [
      "5.451914395937593\n",
      "62.0\n"
     ]
    }
   ],
   "source": [
    "a = np.array ([1,2,3,4,5])\n",
    "sum_exp = np.sum (np.exp(a))\n",
    "log = np.log(sum_exp)\n",
    "sum_exp_base2 = np.sum(np.exp2(a))\n",
    "print(log)\n",
    "print(sum_exp_base2)"
   ]
  },
  {
   "cell_type": "markdown",
   "metadata": {},
   "source": [
    "#  3"
   ]
  },
  {
   "cell_type": "code",
   "execution_count": 71,
   "metadata": {},
   "outputs": [
    {
     "name": "stdout",
     "output_type": "stream",
     "text": [
      "[0.         0.33333333 0.66666667 1.         1.33333333 1.66666667\n",
      " 2.         2.33333333 2.66666667 3.        ]\n"
     ]
    }
   ],
   "source": [
    "a = np.arange(10)\n",
    "print(np.true_divide(a,3))\n"
   ]
  },
  {
   "cell_type": "markdown",
   "metadata": {},
   "source": [
    "#  4"
   ]
  },
  {
   "cell_type": "code",
   "execution_count": 72,
   "metadata": {},
   "outputs": [
    {
     "name": "stdout",
     "output_type": "stream",
     "text": [
      "[0. 0. 0. 1. 1. 2.]\n"
     ]
    }
   ],
   "source": [
    "a = np.arange(6)\n",
    "num = 2.5\n",
    "print (np.floor_divide(a, num))"
   ]
  },
  {
   "cell_type": "markdown",
   "metadata": {},
   "source": [
    "#  5"
   ]
  },
  {
   "cell_type": "code",
   "execution_count": 73,
   "metadata": {},
   "outputs": [
    {
     "name": "stdout",
     "output_type": "stream",
     "text": [
      "[  0   1   8  27  64 125 216 343 512 729]\n"
     ]
    }
   ],
   "source": [
    "a = np.arange(10)\n",
    "num = 3\n",
    "print(np.power(a, num))"
   ]
  },
  {
   "cell_type": "markdown",
   "metadata": {},
   "source": [
    "#  6"
   ]
  },
  {
   "cell_type": "code",
   "execution_count": 74,
   "metadata": {},
   "outputs": [
    {
     "name": "stdout",
     "output_type": "stream",
     "text": [
      "[0 1 2 0 1 2 0 1 2 0]\n"
     ]
    }
   ],
   "source": [
    "a = np.arange(10)\n",
    "num = 3\n",
    "print(np.remainder(a, num))"
   ]
  },
  {
   "cell_type": "markdown",
   "metadata": {},
   "source": [
    "# 7"
   ]
  },
  {
   "cell_type": "code",
   "execution_count": 75,
   "metadata": {},
   "outputs": [
    {
     "name": "stdout",
     "output_type": "stream",
     "text": [
      "[-5 -4 -3 -2 -1  0  1  2  3  4  5]\n",
      "[5 4 3 2 1 0 1 2 3 4 5]\n"
     ]
    }
   ],
   "source": [
    "a = np.arange(-5, 6)\n",
    "print(a)\n",
    "print(np.abs(a))"
   ]
  },
  {
   "cell_type": "markdown",
   "metadata": {},
   "source": [
    "# 8"
   ]
  },
  {
   "cell_type": "code",
   "execution_count": 76,
   "metadata": {},
   "outputs": [
    {
     "name": "stdout",
     "output_type": "stream",
     "text": [
      "[0.04197633 0.1790773  0.7763082  0.38237519 0.90191779]\n",
      "[0.042 0.179 0.776 0.382 0.902]\n"
     ]
    }
   ],
   "source": [
    "a = np.random.rand(5)\n",
    "decimalplaces = 3\n",
    "print(a)\n",
    "print(np.round(a, decimalplaces))"
   ]
  },
  {
   "cell_type": "markdown",
   "metadata": {},
   "source": [
    "# 9"
   ]
  },
  {
   "cell_type": "code",
   "execution_count": 77,
   "metadata": {},
   "outputs": [
    {
     "name": "stdout",
     "output_type": "stream",
     "text": [
      "[6.74540208 5.62173493 7.71646106 3.05521479 8.45488253]\n",
      "[7. 6. 8. 3. 8.]\n"
     ]
    }
   ],
   "source": [
    "a = np.random.rand(5) * 10\n",
    "print(a)\n",
    "print(np.round(a, 0))"
   ]
  },
  {
   "cell_type": "markdown",
   "metadata": {},
   "source": [
    "# 10"
   ]
  },
  {
   "cell_type": "code",
   "execution_count": 78,
   "metadata": {},
   "outputs": [
    {
     "name": "stdout",
     "output_type": "stream",
     "text": [
      "[2.55856928 1.03871501 3.03550548 6.75907805 6.66940866]\n",
      "[3. 2. 4. 7. 7.]\n",
      "[2. 1. 3. 6. 6.]\n",
      "[2. 1. 3. 6. 6.]\n"
     ]
    }
   ],
   "source": [
    "a = np.random.rand(5) * 10 \n",
    "print(a)\n",
    "print(np.ceil(a))\n",
    "print(np.floor(a))\n",
    "print(np.trunc(a))"
   ]
  },
  {
   "cell_type": "markdown",
   "metadata": {},
   "source": [
    "# 11"
   ]
  },
  {
   "cell_type": "code",
   "execution_count": 79,
   "metadata": {},
   "outputs": [
    {
     "name": "stdout",
     "output_type": "stream",
     "text": [
      "[[9. 4. 0.]\n",
      " [2. 1. 9.]\n",
      " [1. 5. 7.]\n",
      " [1. 3. 6.]\n",
      " [3. 5. 5.]]\n",
      "[[4. 6.]\n",
      " [6. 2.]\n",
      " [8. 8.]]\n",
      "result:\n",
      "[[60. 62.]\n",
      " [86. 86.]\n",
      " [90. 72.]\n",
      " [70. 60.]\n",
      " [82. 68.]]\n"
     ]
    }
   ],
   "source": [
    "a = np.trunc(np.random.random((5,3))*10)\n",
    "b = np.trunc(np.random.random((3,2))*10)\n",
    "c = np.dot(a,b)\n",
    "print(a)\n",
    "print(b) \n",
    "print(\"result:\")\n",
    "print(c)"
   ]
  },
  {
   "cell_type": "markdown",
   "metadata": {},
   "source": [
    "# 12"
   ]
  },
  {
   "cell_type": "code",
   "execution_count": 80,
   "metadata": {},
   "outputs": [
    {
     "name": "stdout",
     "output_type": "stream",
     "text": [
      "(-68+488j)\n",
      "(-68+488j)\n"
     ]
    }
   ],
   "source": [
    "a = np.array([1 + 2j, 3 + 4j, 5 + 6j, 7 + 8j])\n",
    "b = np.array([9 + 10j, 11 + 12j, 13 + 14j, 15 + 16j])\n",
    "c = np.dot(a,b)\n",
    "d = a@b\n",
    "\n",
    "print(c)\n",
    "print(d)"
   ]
  },
  {
   "cell_type": "markdown",
   "metadata": {},
   "source": [
    "# 13"
   ]
  },
  {
   "cell_type": "code",
   "execution_count": 81,
   "metadata": {},
   "outputs": [
    {
     "name": "stdout",
     "output_type": "stream",
     "text": [
      "32\n"
     ]
    }
   ],
   "source": [
    "a = np.array([1, 2, 3])\n",
    "b = np.array([4, 5, 6])\n",
    "\n",
    "print( np.inner(a, b))"
   ]
  },
  {
   "cell_type": "markdown",
   "metadata": {},
   "source": [
    "# 14"
   ]
  },
  {
   "cell_type": "code",
   "execution_count": 82,
   "metadata": {},
   "outputs": [
    {
     "name": "stdout",
     "output_type": "stream",
     "text": [
      "32\n",
      "[[ 4  5  6]\n",
      " [ 8 10 12]\n",
      " [12 15 18]]\n",
      "[-3  6 -3]\n"
     ]
    }
   ],
   "source": [
    "a = np.array([1, 2, 3]) \n",
    "b = np.array([4, 5, 6])  \n",
    "\n",
    "inner_product = np.inner(a, b)\n",
    "outer_product = np.outer(a, b)\n",
    "cross_product = np.cross(a, b)\n",
    "\n",
    "print(inner_product )\n",
    "print(outer_product )\n",
    "print(cross_product )\n",
    "\n"
   ]
  },
  {
   "cell_type": "markdown",
   "metadata": {},
   "source": [
    "# 15"
   ]
  },
  {
   "cell_type": "code",
   "execution_count": null,
   "metadata": {},
   "outputs": [],
   "source": []
  },
  {
   "cell_type": "markdown",
   "metadata": {},
   "source": [
    "# 16"
   ]
  },
  {
   "cell_type": "code",
   "execution_count": 83,
   "metadata": {},
   "outputs": [
    {
     "name": "stdout",
     "output_type": "stream",
     "text": [
      "roots of first polynomial: [2.+1.73205081j 2.-1.73205081j]\n",
      "roots of second polynomial: [10.21476143+0.j          0.39261928+0.90819903j  0.39261928-0.90819903j]\n"
     ]
    }
   ],
   "source": [
    "a = np.array([1, -4, 7])\n",
    "print(f\"roots of first polynomial: {np.roots(a)}\") # answer on website is wrong\n",
    "b = np.array ([1,-11,9,-10])\n",
    "print(f\"roots of second polynomial: {np.roots(b)}\") # answer on website is wrong\n"
   ]
  },
  {
   "cell_type": "markdown",
   "metadata": {},
   "source": [
    "# 17"
   ]
  },
  {
   "cell_type": "code",
   "execution_count": 84,
   "metadata": {},
   "outputs": [
    {
     "name": "stdout",
     "output_type": "stream",
     "text": [
      "when x=0 y = 3\n",
      "when x=1 y = 6\n",
      "when x=2 y = 11\n",
      "when x=3 y = 18\n"
     ]
    }
   ],
   "source": [
    "sample_coeff = [1,2,3] # 1*x^2 +2x^1+3x^0\n",
    "for i in range (4):\n",
    "    print(f\"when x={i} y = {np.polyval(sample_coeff, i)}\")\n"
   ]
  },
  {
   "cell_type": "markdown",
   "metadata": {},
   "source": [
    "# 18"
   ]
  },
  {
   "cell_type": "code",
   "execution_count": 85,
   "metadata": {},
   "outputs": [
    {
     "name": "stdout",
     "output_type": "stream",
     "text": [
      "[3 3 3]\n",
      "[-1  1  3]\n",
      "[2 5 8 3 0]\n",
      "(array([0.5]), array([1.5, 3. ]))\n"
     ]
    }
   ],
   "source": [
    "a = [1,2,3] # 1*x^2 +2x^1+3x^0\n",
    "b = [2,1,0] # 2*x^2 +1x^1+0x^0\n",
    "\n",
    "print(np.polyadd(a,b))\n",
    "print(np.polysub(a,b))\n",
    "print(np.polymul(a,b))\n",
    "print(np.polydiv(a,b))"
   ]
  },
  {
   "cell_type": "markdown",
   "metadata": {},
   "source": [
    "# 19"
   ]
  },
  {
   "cell_type": "code",
   "execution_count": 86,
   "metadata": {},
   "outputs": [
    {
     "name": "stdout",
     "output_type": "stream",
     "text": [
      "mean across columns: [15. 45.]\n",
      "mean across rows: [20. 40.]\n"
     ]
    }
   ],
   "source": [
    "a = np.array([[10, 30], [20, 60]])\n",
    "print(f'mean across columns: {np.mean(a, axis=0)}')\n",
    "print(f'mean across rows: {np.mean(a, axis=1)}')"
   ]
  },
  {
   "cell_type": "markdown",
   "metadata": {},
   "source": [
    "# 20"
   ]
  },
  {
   "cell_type": "code",
   "execution_count": 87,
   "metadata": {},
   "outputs": [
    {
     "name": "stdout",
     "output_type": "stream",
     "text": [
      "Average (mean) of the array: 0.5103502548876443\n",
      "Variance of the array: 0.0795845937110131\n",
      "Standard Deviation of the array: 0.28210741520033306\n"
     ]
    }
   ],
   "source": [
    "random_array = np.random.rand(1000)\n",
    "\n",
    "print(f\"Average (mean) of the array: {np.mean(random_array)}\")\n",
    "print(f\"Variance of the array: {np.var(random_array)}\")\n",
    "print(f\"Standard Deviation of the array: {np.std(random_array)}\")"
   ]
  },
  {
   "cell_type": "markdown",
   "metadata": {},
   "source": [
    "# 21"
   ]
  },
  {
   "cell_type": "code",
   "execution_count": 88,
   "metadata": {},
   "outputs": [
    {
     "name": "stdout",
     "output_type": "stream",
     "text": [
      "[0, 45, 90, 135, 180, 225, 270, 315, 360]\n",
      "sin of a given array \n",
      "[ 0.00000000e+00  7.07106781e-01  1.00000000e+00  7.07106781e-01\n",
      "  1.22464680e-16 -7.07106781e-01 -1.00000000e+00 -7.07106781e-01\n",
      " -2.44929360e-16]\n",
      "cos of a given array \n",
      "[ 1.00000000e+00  7.07106781e-01  6.12323400e-17 -7.07106781e-01\n",
      " -1.00000000e+00 -7.07106781e-01 -1.83697020e-16  7.07106781e-01\n",
      "  1.00000000e+00]\n",
      "tan of a given array \n",
      "[ 0.00000000e+00  1.00000000e+00  1.63312394e+16 -1.00000000e+00\n",
      " -1.22464680e-16  1.00000000e+00  5.44374645e+15 -1.00000000e+00\n",
      " -2.44929360e-16]\n"
     ]
    }
   ],
   "source": [
    "angles = []\n",
    "for i in range (0, 361, 45):\n",
    "    angles.append(i)\n",
    "print(angles)\n",
    "radians = np.array(angles) * np.pi / 180\n",
    "print (f\"sin of a given array \\n{np.sin(radians)}\")\n",
    "print (f\"cos of a given array \\n{np.cos(radians)}\")\n",
    "print (f\"tan of a given array \\n{np.tan(radians)}\")"
   ]
  },
  {
   "cell_type": "markdown",
   "metadata": {},
   "source": [
    "# 22"
   ]
  },
  {
   "cell_type": "code",
   "execution_count": 89,
   "metadata": {},
   "outputs": [
    {
     "name": "stdout",
     "output_type": "stream",
     "text": [
      "inverse sin of a given array \n",
      "[-90. -30.   0.  30.  90.]\n",
      "\n",
      "inverse cos of a given array \n",
      "[180. 120.  90.  60.   0.]\n",
      "\n",
      "inverse tan of a given array \n",
      "[-45.         -26.56505118   0.          26.56505118  45.        ]\n"
     ]
    }
   ],
   "source": [
    "values = np.arange(-1, 1.1, 0.5)\n",
    "    \n",
    "print (f\"inverse sin of a given array \\n{np.arcsin(values)/np.pi*180}\\n\")\n",
    "print (f\"inverse cos of a given array \\n{np.arccos(values)/np.pi*180}\\n\")\n",
    "print (f\"inverse tan of a given array \\n{np.arctan(values)/np.pi*180}\")\n"
   ]
  },
  {
   "cell_type": "markdown",
   "metadata": {},
   "source": [
    "# 23"
   ]
  },
  {
   "cell_type": "code",
   "execution_count": 90,
   "metadata": {},
   "outputs": [
    {
     "name": "stdout",
     "output_type": "stream",
     "text": [
      "radians: [-3.14159265 -1.57079633  1.57079633  3.14159265]\n",
      "degrees: [-180.  -90.   90.  180.]\n"
     ]
    }
   ],
   "source": [
    "radians = np.array ([-np.pi, -np.pi/2, np.pi/2, np.pi])\n",
    "degrees = np.degrees(radians)\n",
    "print(f\"radians: {radians}\")\n",
    "print(f\"degrees: {degrees}\")\n"
   ]
  },
  {
   "cell_type": "markdown",
   "metadata": {},
   "source": [
    "# 24"
   ]
  },
  {
   "cell_type": "code",
   "execution_count": 91,
   "metadata": {},
   "outputs": [
    {
     "name": "stdout",
     "output_type": "stream",
     "text": [
      "degrees: [-180.  -90.   90.  180.]\n",
      "radians: [-3.14159265 -1.57079633  1.57079633  3.14159265]\n"
     ]
    }
   ],
   "source": [
    "degrees = np.array([-180., -90., 90., 180.])\n",
    "radians = np.radians(degrees)\n",
    "\n",
    "print(f\"degrees: {degrees}\")\n",
    "print(f\"radians: {radians}\")"
   ]
  },
  {
   "cell_type": "markdown",
   "metadata": {},
   "source": [
    "# 25"
   ]
  },
  {
   "cell_type": "code",
   "execution_count": 92,
   "metadata": {},
   "outputs": [
    {
     "name": "stdout",
     "output_type": "stream",
     "text": [
      "hyperbolic sin of a given array \n",
      "[-1.17520119  0.          1.17520119]\n",
      "\n",
      "hyperbolic cos of a given array \n",
      "[1.54308063 1.         1.54308063]\n",
      "\n",
      "hyperbolic tan of a given array \n",
      "[-0.76159416  0.          0.76159416]\n"
     ]
    }
   ],
   "source": [
    "a = np.array ([-1., 0, 1.])\n",
    "print (f\"hyperbolic sin of a given array \\n{np.sinh(a)}\\n\")\n",
    "print (f\"hyperbolic cos of a given array \\n{np.cosh(a)}\\n\")\n",
    "print (f\"hyperbolic tan of a given array \\n{np.tanh(a)}\")\n"
   ]
  },
  {
   "cell_type": "markdown",
   "metadata": {},
   "source": [
    "# 26"
   ]
  },
  {
   "cell_type": "code",
   "execution_count": 93,
   "metadata": {},
   "outputs": [
    {
     "name": "stdout",
     "output_type": "stream",
     "text": [
      "around: [ 3.  4.  4.  3. -3. -4. -6.]\n",
      "floor: [ 3.  3.  4.  2. -4. -4. -6.]\n",
      "ceil: [ 4.  4.  5.  3. -3. -3. -5.]\n",
      "truncate: [ 3.  3.  4.  2. -3. -3. -5.]\n",
      "round: [3, 4, 4, 3, -3, -4, -6]\n"
     ]
    }
   ],
   "source": [
    "a = np.array ([3.1, 3.5, 4.5, 2.9, -3.1, -3.5, -5.9])\n",
    "\n",
    "decimals = 0\n",
    "\n",
    "print (f\"around: {np.around(a, decimals=decimals)}\")\n",
    "print (f\"floor: {np.floor(a)}\")\n",
    "print (f\"ceil: {np.ceil(a)}\")\n",
    "print (f\"truncate: {np.trunc(a)}\")\n",
    "print (f\"round: {[round(item) for item in a]}\")\n"
   ]
  },
  {
   "cell_type": "markdown",
   "metadata": {},
   "source": [
    "# 27"
   ]
  },
  {
   "cell_type": "code",
   "execution_count": 94,
   "metadata": {},
   "outputs": [
    {
     "name": "stdout",
     "output_type": "stream",
     "text": [
      "cumulative sum: [ 1  3  6 10 15 21]\n",
      "sum over rows: [5 7 9]\n",
      "sum over columns: [ 6 15]\n"
     ]
    }
   ],
   "source": [
    "a= np.array([[1, 2, 3],\n",
    "             [4, 5, 6]])\n",
    "cumulSum = np.cumsum(a)\n",
    "rowssum = np.sum(a, axis=0)\n",
    "colsum = np.sum(a, axis=1)\n",
    "\n",
    "print(f\"cumulative sum: {cumulSum}\")\n",
    "print(f\"sum over rows: {rowssum}\")\n",
    "print(f\"sum over columns: {colsum}\")"
   ]
  },
  {
   "cell_type": "markdown",
   "metadata": {},
   "source": [
    "# 28"
   ]
  },
  {
   "cell_type": "code",
   "execution_count": 95,
   "metadata": {},
   "outputs": [
    {
     "name": "stdout",
     "output_type": "stream",
     "text": [
      "cumulative product: [  1   2   6  24 120 720]\n",
      "product over rows: [ 4 10 18]\n",
      "product over columns: [  6 120]\n"
     ]
    }
   ],
   "source": [
    "a= np.array([[1, 2, 3],\n",
    "             [4, 5, 6]])\n",
    "cumulSum = np.cumprod(a)\n",
    "rowssum = np.prod(a, axis=0)\n",
    "colsum = np.prod(a, axis=1)\n",
    "\n",
    "print(f\"cumulative product: {cumulSum}\")\n",
    "print(f\"product over rows: {rowssum}\")\n",
    "print(f\"product over columns: {colsum}\")"
   ]
  },
  {
   "cell_type": "markdown",
   "metadata": {},
   "source": [
    "# 29"
   ]
  },
  {
   "cell_type": "code",
   "execution_count": 96,
   "metadata": {},
   "outputs": [
    {
     "name": "stdout",
     "output_type": "stream",
     "text": [
      "[ 2  2  2 -7]\n"
     ]
    }
   ],
   "source": [
    "a = np.array([1, 3, 5, 7, 0])\n",
    "print(np.diff(a))"
   ]
  },
  {
   "cell_type": "markdown",
   "metadata": {},
   "source": [
    "# 30"
   ]
  },
  {
   "cell_type": "code",
   "execution_count": 97,
   "metadata": {},
   "outputs": [
    {
     "name": "stdout",
     "output_type": "stream",
     "text": [
      "[  0   0   2   2   2  -7 200]\n"
     ]
    }
   ],
   "source": [
    "a = np.array([1, 3, 5, 7, 0])\n",
    "diff = np.diff(a)\n",
    "print(np.concatenate(([0, 0], diff, [200])))\n",
    "\n"
   ]
  },
  {
   "cell_type": "markdown",
   "metadata": {},
   "source": [
    "# 31"
   ]
  },
  {
   "cell_type": "code",
   "execution_count": 98,
   "metadata": {},
   "outputs": [
    {
     "name": "stdout",
     "output_type": "stream",
     "text": [
      "[[ 2.71828183  7.3890561  20.08553692 54.59815003]]\n"
     ]
    }
   ],
   "source": [
    "a = np.array ([[1, 2, 3, 4]])\n",
    "print(np.exp(a))"
   ]
  },
  {
   "cell_type": "markdown",
   "metadata": {},
   "source": [
    "# 32"
   ]
  },
  {
   "cell_type": "code",
   "execution_count": 99,
   "metadata": {},
   "outputs": [
    {
     "name": "stdout",
     "output_type": "stream",
     "text": [
      "[[ 1.71828183  6.3890561  19.08553692 53.59815003]]\n"
     ]
    }
   ],
   "source": [
    "a = np.array ([[1, 2, 3, 4]])\n",
    "print(np.exp(a)-1)"
   ]
  },
  {
   "cell_type": "markdown",
   "metadata": {},
   "source": [
    "# 33"
   ]
  },
  {
   "cell_type": "code",
   "execution_count": 100,
   "metadata": {},
   "outputs": [
    {
     "name": "stdout",
     "output_type": "stream",
     "text": [
      "[[ 2  4  8 16]]\n"
     ]
    }
   ],
   "source": [
    "a = np.array ([[1, 2, 3, 4]])\n",
    "print(np.pow(2, a))"
   ]
  },
  {
   "cell_type": "markdown",
   "metadata": {},
   "source": [
    "# 34"
   ]
  },
  {
   "cell_type": "code",
   "execution_count": 101,
   "metadata": {},
   "outputs": [
    {
     "name": "stdout",
     "output_type": "stream",
     "text": [
      "natural log: [0. 1. 2.]\n",
      "log b10: [0.         0.43429448 0.86858896]\n",
      "log b2: [0.         1.44269504 2.88539008]\n"
     ]
    }
   ],
   "source": [
    "a = np.array([1, 2.71828183, 7.3890561 ])\n",
    "print(f\"natural log: {np.log(a)}\")\n",
    "print(f\"log b10: {np.log10(a)}\")\n",
    "print(f\"log b2: {np.log2(a)}\")"
   ]
  },
  {
   "cell_type": "markdown",
   "metadata": {},
   "source": [
    "# 35"
   ]
  },
  {
   "cell_type": "code",
   "execution_count": 102,
   "metadata": {},
   "outputs": [
    {
     "name": "stdout",
     "output_type": "stream",
     "text": [
      "[[1.e-099 1.e-100]]\n"
     ]
    }
   ],
   "source": [
    "a = np.array ([[1.e-099, 1.e-100]])\n",
    "#print(np.log(a+1))\n",
    "print(np.log1p(a))"
   ]
  },
  {
   "cell_type": "markdown",
   "metadata": {},
   "source": [
    "# 36"
   ]
  },
  {
   "cell_type": "code",
   "execution_count": 103,
   "metadata": {},
   "outputs": [
    {
     "name": "stdout",
     "output_type": "stream",
     "text": [
      "[ True  True  True  True False False False False False]\n"
     ]
    }
   ],
   "source": [
    "a = np.array([-4, -3, -2, -1, 0, 1, 2, 3, 4]) \n",
    "print(np.signbit(a))"
   ]
  },
  {
   "cell_type": "markdown",
   "metadata": {},
   "source": [
    "# 37"
   ]
  },
  {
   "cell_type": "code",
   "execution_count": 104,
   "metadata": {},
   "outputs": [
    {
     "name": "stdout",
     "output_type": "stream",
     "text": [
      "negative: [-1. -0. -1. -2.]\n",
      "positive: [1. 0. 1. 2.]\n"
     ]
    }
   ],
   "source": [
    "a = np.array([-1, 0, 1, 2])\n",
    "testsign = -1.0\n",
    "testsign2 = +1.0\n",
    "\n",
    "print(f\"negative: {np.copysign(a, testsign)}\")\n",
    "\n",
    "print(f\"positive: {np.copysign(a, testsign2)}\")"
   ]
  },
  {
   "cell_type": "markdown",
   "metadata": {},
   "source": [
    "# 38"
   ]
  },
  {
   "cell_type": "code",
   "execution_count": 105,
   "metadata": {},
   "outputs": [
    {
     "name": "stdout",
     "output_type": "stream",
     "text": [
      "original: [ 0  1 -1]\n",
      "[ 0 -1  1]\n",
      "[ 0 -1  1]\n"
     ]
    }
   ],
   "source": [
    "a = np.array ([0, 1, -1])\n",
    "print(f\"original: {a}\")\n",
    "print(np.negative(a))\n",
    "print(-a)"
   ]
  },
  {
   "cell_type": "markdown",
   "metadata": {},
   "source": [
    "# 39"
   ]
  },
  {
   "cell_type": "code",
   "execution_count": 106,
   "metadata": {},
   "outputs": [
    {
     "name": "stdout",
     "output_type": "stream",
     "text": [
      "[1.         0.5        5.         3.33333333]\n",
      "[1.         0.5        5.         3.33333333]\n"
     ]
    }
   ],
   "source": [
    "a = np.array ([1., 2., 0.2, 0.3])\n",
    "print(np.reciprocal(a))\n",
    "print(1/a)"
   ]
  },
  {
   "cell_type": "markdown",
   "metadata": {},
   "source": [
    "# 40"
   ]
  },
  {
   "cell_type": "code",
   "execution_count": 107,
   "metadata": {},
   "outputs": [
    {
     "name": "stdout",
     "output_type": "stream",
     "text": [
      "[[ 1  4]\n",
      " [ 3 16]]\n"
     ]
    }
   ],
   "source": [
    "x = np.array([[1,2],[3,4]])\n",
    "y = np.array([[1,2],[1,2]])\n",
    "\n",
    "print(np.power(x, y))"
   ]
  },
  {
   "cell_type": "markdown",
   "metadata": {},
   "source": [
    "# 41"
   ]
  },
  {
   "cell_type": "code",
   "execution_count": 108,
   "metadata": {},
   "outputs": [
    {
     "name": "stdout",
     "output_type": "stream",
     "text": [
      "[ 1  1  1  0 -1 -1  0  1]\n",
      "[ 1  1  1  0 -1 -1  0  1]\n"
     ]
    }
   ],
   "source": [
    "a = np.array([1, 3, 5, 0, -1, -7, 0, 5])\n",
    "\n",
    "print(np.sign(a))\n",
    "\n",
    "a1 = np.where((a > 0), \n",
    "              1, \n",
    "              np.where((a < 0), \n",
    "                       -1, \n",
    "                       a))\n",
    "print(a1)"
   ]
  }
 ],
 "metadata": {
  "kernelspec": {
   "display_name": "Python 3",
   "language": "python",
   "name": "python3"
  },
  "language_info": {
   "codemirror_mode": {
    "name": "ipython",
    "version": 3
   },
   "file_extension": ".py",
   "mimetype": "text/x-python",
   "name": "python",
   "nbconvert_exporter": "python",
   "pygments_lexer": "ipython3",
   "version": "3.13.0"
  }
 },
 "nbformat": 4,
 "nbformat_minor": 2
}
