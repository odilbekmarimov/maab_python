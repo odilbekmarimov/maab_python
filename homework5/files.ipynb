{
 "cells": [
  {
   "cell_type": "markdown",
   "metadata": {},
   "source": [
    "1"
   ]
  },
  {
   "cell_type": "code",
   "execution_count": null,
   "metadata": {},
   "outputs": [],
   "source": [
    "\n",
    "filename = input(\"enter file name: \")\n",
    "file = open(filename, \"r\")\n",
    "content = file.read()\n",
    "file.close()\n",
    "print(content)"
   ]
  },
  {
   "cell_type": "code",
   "execution_count": null,
   "metadata": {},
   "outputs": [],
   "source": [
    "2"
   ]
  },
  {
   "cell_type": "code",
   "execution_count": null,
   "metadata": {},
   "outputs": [],
   "source": [
    "filename = input (\"enter filename: \")\n",
    "n = int (input(\"enter number of lines: \"))\n",
    "file = open(filename, \"r\")\n",
    "line = file.readline()\n",
    "for i in range (n):\n",
    "    if not line:\n",
    "        print(\"\\nfile ended\")\n",
    "        break\n",
    "    print (line, end = \"\")\n",
    "    line = file.readline()\n",
    "file.close()  \n"
   ]
  },
  {
   "cell_type": "code",
   "execution_count": null,
   "metadata": {},
   "outputs": [],
   "source": [
    "#3\n",
    "filename = input (\"enter filename: \")\n",
    "file = open(filename, \"a\")\n",
    "line = \"A\"\n",
    "while line != \"break\":\n",
    "    line = input (\"input line to append ('break' to break): \")\n",
    "    if line == \"break\":\n",
    "        break\n",
    "    file.write(line + \"\\n\")\n",
    "file.close()\n",
    "file = open(filename, \"r\")\n",
    "print(file.read())\n",
    "file.close()\n"
   ]
  },
  {
   "cell_type": "code",
   "execution_count": null,
   "metadata": {},
   "outputs": [],
   "source": [
    "#4\n",
    "filename = input(\"enter file name: \")\n",
    "n = int (input(\"enter last n numbers to read: \"))\n",
    "\n",
    "file = open(\"demo.txt\", \"r\")\n",
    "line_count = sum(1 for line in file)\n",
    "file.close()\n",
    "file = open(\"demo.txt\", \"r\")\n",
    "\n",
    "for i in range (line_count-n):\n",
    "    line = file.readline()\n",
    "    \n",
    "for j in range (n+1):\n",
    "    line = file.readline()\n",
    "    print (line, end = \"\")\n",
    "file.close()  \n"
   ]
  },
  {
   "cell_type": "code",
   "execution_count": null,
   "metadata": {},
   "outputs": [],
   "source": [
    "#5\n",
    "filename = input(\"enter file name: \")\n",
    "filelist = []\n",
    "file = open(filename, \"r\")\n",
    "for line in file:\n",
    "    filelist.append(line.strip())\n",
    "    \n",
    "print (filelist)\n",
    "file.close()  \n"
   ]
  },
  {
   "cell_type": "code",
   "execution_count": null,
   "metadata": {},
   "outputs": [],
   "source": [
    "#6\n",
    "ilename = input(\"Enter filename: \")\n",
    "file = open(filename, \"r\")\n",
    "\n",
    "current_line = \"\" \n",
    "\n",
    "for line in file:\n",
    "    current_line = line.strip() \n",
    "    print(current_line)\n",
    "\n",
    "print(\"End\")\n",
    "file.close()  "
   ]
  },
  {
   "cell_type": "code",
   "execution_count": null,
   "metadata": {},
   "outputs": [],
   "source": [
    "#7\n",
    "filename = input(\"enter file name: \")\n",
    "filearray = []\n",
    "file = open(filename, \"r\")\n",
    "for line in file:\n",
    "    filearray.append(line.strip())\n",
    "    \n",
    "print (filearray)\n",
    "file.close()  \n"
   ]
  },
  {
   "cell_type": "code",
   "execution_count": null,
   "metadata": {},
   "outputs": [],
   "source": [
    "#8\n",
    "filename = input (\"filename: \")\n",
    "file = open (filename, \"r\")\n",
    "wordlist = []\n",
    "for line in file:\n",
    "    wordlist.extend(line.strip().split())\n",
    "file.close()\n",
    "longest_word = max(wordlist, key=len)\n",
    "print(longest_word)"
   ]
  },
  {
   "cell_type": "code",
   "execution_count": null,
   "metadata": {},
   "outputs": [],
   "source": [
    "#9\n",
    "filename = input(\"enter file name: \")\n",
    "\n",
    "file = open(\"demo.txt\", \"r\")\n",
    "line_count = sum(1 for line in file)\n",
    "file.close()\n",
    "print (line_count)"
   ]
  },
  {
   "cell_type": "code",
   "execution_count": null,
   "metadata": {},
   "outputs": [],
   "source": [
    "#10\n",
    "from collections import Counter\n",
    "def wcount(filename):\n",
    "    file = open(filename, \"r\")\n",
    "    return Counter(file.read().split())\n",
    "\n",
    "filename = input (\"enter filename: \")\n",
    "print(wcount (filename))\n"
   ]
  },
  {
   "cell_type": "code",
   "execution_count": null,
   "metadata": {},
   "outputs": [],
   "source": [
    "#11\n",
    "import os\n",
    "file = (input(\"filename: \"))\n",
    "statinfo = os.stat(file)\n",
    "print (statinfo.st_size, \" bytes\" )"
   ]
  },
  {
   "cell_type": "code",
   "execution_count": null,
   "metadata": {},
   "outputs": [],
   "source": [
    "#12\n",
    "filename = input (\"enter filename: \")\n",
    "*list1,=map(str, input(\"enter the list (separator 'space'): \").split())\n",
    "file = open (filename, \"a\")\n",
    "\n",
    "\n",
    "for i in range (len(list1)-1):\n",
    "    file.write(list1[i] + \"\\n\")\n",
    "file.write(list1[len(list1)-1])\n",
    "\n",
    "\n",
    "print (list1)\n",
    "file.close()\n",
    "file = open (filename, \"r\")\n",
    "print(file.read())"
   ]
  },
  {
   "cell_type": "code",
   "execution_count": null,
   "metadata": {},
   "outputs": [],
   "source": [
    "#13\n",
    "list1 = []\n",
    "filename = input (\"original filename: \")\n",
    "file = open(filename, \"r\")\n",
    "for line in filename:\n",
    "    list1.append(file.readline())\n",
    "file.close()\n",
    "\n",
    "filename = input(\"new file name: \")\n",
    "file = open(filename, \"w\")\n",
    "for i in range (len(list1)):\n",
    "    file.write(list1[i])\n",
    "file.close()\n",
    "\n",
    "\n",
    "file = open(filename, \"r\")\n",
    "\n",
    "print(file.read())\n",
    "print(list1)"
   ]
  },
  {
   "cell_type": "code",
   "execution_count": null,
   "metadata": {},
   "outputs": [],
   "source": [
    "#14\n",
    "def combine_lines(file1, file2, output_file):\n",
    "    with open(file1, 'r') as f1, open(file2, 'r') as f2, open(output_file, 'w') as result:\n",
    "        for line1, line2 in zip(f1, f2):\n",
    "            combined_line = line1.strip() + ' ' + line2.strip() + '\\n'\n",
    "            result.write(combined_line)\n",
    "\n",
    "\n"
   ]
  },
  {
   "cell_type": "code",
   "execution_count": null,
   "metadata": {},
   "outputs": [],
   "source": [
    "#15\n",
    "import random\n",
    "filename = input(\"input filename: \")\n",
    "with open(filename, 'r') as file:\n",
    "    lines = file.readlines()\n",
    "    if lines:\n",
    "        print(random.choice(lines).strip())\n",
    "    else:\n",
    "        print(\"out of range\")"
   ]
  },
  {
   "cell_type": "code",
   "execution_count": null,
   "metadata": {},
   "outputs": [],
   "source": [
    "#16\n",
    "filename = input (\"filename: \")\n",
    "file = open(filename, \"r\")\n",
    "if file.closed:\n",
    "    print(\"closed\")\n",
    "else:\n",
    "    print(\"not closed\")"
   ]
  },
  {
   "cell_type": "code",
   "execution_count": null,
   "metadata": {},
   "outputs": [],
   "source": [
    "#17\n",
    "list1 = []\n",
    "filename = \"demo.txt\"\n",
    "\n",
    "with open(filename, 'r') as file:\n",
    "    for line in file:\n",
    "        list1.append(line.strip())  \n",
    "\n",
    "print(list1)\n"
   ]
  },
  {
   "cell_type": "code",
   "execution_count": null,
   "metadata": {},
   "outputs": [],
   "source": [
    "#18\n",
    "filename = input (\"filename: \")\n",
    "file = open (filename, \"r\")\n",
    "wordlist = []\n",
    "for line in file:\n",
    "    wordlist.extend(line.strip().split())\n",
    "file.close()\n",
    "print(len(wordlist))"
   ]
  },
  {
   "cell_type": "code",
   "execution_count": null,
   "metadata": {},
   "outputs": [],
   "source": [
    "#19\n",
    "file = open(\"demo.txt\", \"r\")\n",
    "text = file.read()\n",
    "\n",
    "text = text.replace(',', ' ')\n",
    "print (\"length is: \", len(text.split()))"
   ]
  },
  {
   "cell_type": "code",
   "execution_count": 3,
   "metadata": {},
   "outputs": [],
   "source": [
    "#20 \n",
    "for i in range (65, 65+26):\n",
    "    file = open (f\"{chr(i)}.txt\", \"w\")\n",
    "    file.close()"
   ]
  },
  {
   "cell_type": "code",
   "execution_count": null,
   "metadata": {},
   "outputs": [],
   "source": [
    "#21\n",
    "file = open(\"new.txt\", \"w\")\n",
    "n = int(input(\"n: \"))\n",
    "for i in range (65, 65+26):\n",
    "    for j in range (n):\n",
    "        file.write(chr(i))\n",
    "    file.write(\"\\n\")\n",
    "file.close()\n",
    "file = open(\"new.txt\", \"r\")\n",
    "print(file.read())"
   ]
  }
 ],
 "metadata": {
  "kernelspec": {
   "display_name": "Python 3",
   "language": "python",
   "name": "python3"
  },
  "language_info": {
   "codemirror_mode": {
    "name": "ipython",
    "version": 3
   },
   "file_extension": ".py",
   "mimetype": "text/x-python",
   "name": "python",
   "nbconvert_exporter": "python",
   "pygments_lexer": "ipython3",
   "version": "3.13.0"
  }
 },
 "nbformat": 4,
 "nbformat_minor": 2
}
