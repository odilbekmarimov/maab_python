{
 "cells": [
  {
   "cell_type": "code",
   "execution_count": null,
   "metadata": {},
   "outputs": [],
   "source": [
    "#1\n",
    "def division (a:float, b:float):\n",
    "    try:\n",
    "        print(f\"{a} / {b} is {a/b}\")\n",
    "    except ZeroDivisionError:\n",
    "        print (\"Cannot divide to a zero\")"
   ]
  },
  {
   "cell_type": "code",
   "execution_count": null,
   "metadata": {},
   "outputs": [],
   "source": [
    "#2\n",
    "def getint (a:int):\n",
    "    try:\n",
    "        a = int (a)\n",
    "        return a\n",
    "    except ValueError:\n",
    "        print (\"invalid value\")\n",
    "     "
   ]
  },
  {
   "cell_type": "code",
   "execution_count": null,
   "metadata": {},
   "outputs": [],
   "source": [
    "#3\n",
    "def fileopening(filename):\n",
    "    try:\n",
    "        file = open(filename, 'r')\n",
    "        print(file.readline()) #first line only\n",
    "        file.close()\n",
    "    except FileNotFoundError:\n",
    "        print(\"File not found\")"
   ]
  },
  {
   "cell_type": "code",
   "execution_count": null,
   "metadata": {},
   "outputs": [],
   "source": [
    "#4\n",
    "def type_error ():\n",
    "    try:\n",
    "        a = float (input (\"enter a: \"))\n",
    "        b = float (input (\"enter b: \"))\n",
    "        return a, b\n",
    "    except ValueError:\n",
    "        print (\"Wrong input value\")\n"
   ]
  },
  {
   "cell_type": "code",
   "execution_count": null,
   "metadata": {},
   "outputs": [],
   "source": [
    "#5\n",
    "def permission_request (filename):\n",
    "    try:\n",
    "        file = open (filename, 'r')\n",
    "        print (file.read())\n",
    "        file.close\n",
    "    except PermissionError:\n",
    "        print (\"You dont have permissions\")"
   ]
  },
  {
   "cell_type": "code",
   "execution_count": null,
   "metadata": {},
   "outputs": [],
   "source": [
    "#6\n",
    "def itemAtIndex (items, index):\n",
    "    try:\n",
    "        print (items[index])\n",
    "    except IndexError:\n",
    "        print (\"required index is out of range\")"
   ]
  },
  {
   "cell_type": "code",
   "execution_count": null,
   "metadata": {},
   "outputs": [],
   "source": [
    "#7\n",
    "def userinterruption(a: list):\n",
    "    while True:\n",
    "        \n",
    "        try:\n",
    "            b = input(\"Enter a value: \")\n",
    "            a.append(b)\n",
    "            if b == \"3\":  # Exit condition\n",
    "                print(\"Exit\")\n",
    "                break\n",
    "        except KeyboardInterrupt:\n",
    "            print(\"Canceled by user\")\n",
    "            break"
   ]
  },
  {
   "cell_type": "code",
   "execution_count": null,
   "metadata": {},
   "outputs": [],
   "source": [
    "#8\n",
    "def aritherror (a:float, b:float):\n",
    "    try: \n",
    "        print (f\"{a} / {b} is {a/b}\")\n",
    "    except ArithmeticError:\n",
    "        print (\"Arithmetic error occured\")"
   ]
  },
  {
   "cell_type": "code",
   "execution_count": null,
   "metadata": {},
   "outputs": [],
   "source": [
    "#9\n",
    "def read_file(filename, decoding):\n",
    "    try:\n",
    "        file = open(filename, \"r\", encoding = decoding)\n",
    "        print (file.read())\n",
    "        file.close()\n",
    "    except UnicodeDecodeError:\n",
    "        print(\"Error decoding file as {endoding}\")"
   ]
  },
  {
   "cell_type": "code",
   "execution_count": null,
   "metadata": {},
   "outputs": [],
   "source": [
    "#10\n",
    "\n",
    "def listattribute (a:list, b:str):\n",
    "    try:\n",
    "        print (getattr(a, b))\n",
    "    except AttributeError:\n",
    "        print (f\"list does not have attribute called {b}\")"
   ]
  }
 ],
 "metadata": {
  "language_info": {
   "name": "python"
  }
 },
 "nbformat": 4,
 "nbformat_minor": 2
}
