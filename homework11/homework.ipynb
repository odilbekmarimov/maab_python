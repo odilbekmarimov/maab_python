{
 "cells": [
  {
   "cell_type": "code",
   "execution_count": 94,
   "metadata": {},
   "outputs": [],
   "source": [
    "from pyspark.sql import SparkSession\n",
    "\n",
    "spark = SparkSession.builder.appName('Demo').getOrCreate()"
   ]
  },
  {
   "cell_type": "code",
   "execution_count": 95,
   "metadata": {},
   "outputs": [],
   "source": [
    "from pyspark.sql.functions import when\n",
    "from pyspark.sql.functions import col\n",
    "from pyspark.sql import functions as func"
   ]
  },
  {
   "cell_type": "code",
   "execution_count": 96,
   "metadata": {},
   "outputs": [],
   "source": [
    "currency  = 'dim_currency.csv'\n",
    "customers = 'dim_customer.csv'\n",
    "dates = 'dim_date.csv'\n",
    "product = 'dim_product.csv'\n",
    "intsales = 'fact_internet_sales.csv'"
   ]
  },
  {
   "cell_type": "code",
   "execution_count": 98,
   "metadata": {},
   "outputs": [
    {
     "name": "stdout",
     "output_type": "stream",
     "text": [
      "+----------+------------+-----------+-----------+-------------+---------+--------------+--------------------+--------------+-------------------+----------------+-----------+--------+-------+\n",
      "|ProductKey|OrderDateKey|CustomerKey|CurrencyKey|OrderQuantity|UnitPrice|ExtendedAmount|UnitPriceDiscountPct|DiscountAmount|ProductStandardCost|TotalProductCost|SalesAmount|  TaxAmt|Freight|\n",
      "+----------+------------+-----------+-----------+-------------+---------+--------------+--------------------+--------------+-------------------+----------------+-----------+--------+-------+\n",
      "|       310|    20101229|      21768|         19|            1|  3578.27|       3578.27|                 0.0|           0.0|          2171.2942|       2171.2942|    3578.27|286.2616|89.4568|\n",
      "|       346|    20101229|      28389|         39|            1|  3399.99|       3399.99|                 0.0|           0.0|          1912.1544|       1912.1544|    3399.99|271.9992|84.9998|\n",
      "+----------+------------+-----------+-----------+-------------+---------+--------------+--------------------+--------------+-------------------+----------------+-----------+--------+-------+\n",
      "only showing top 2 rows\n",
      "\n"
     ]
    }
   ],
   "source": [
    "df = spark.read.csv('fact_internet_sales.csv', header=True, inferSchema=True)\n",
    "df.show(2)"
   ]
  },
  {
   "cell_type": "code",
   "execution_count": 99,
   "metadata": {},
   "outputs": [],
   "source": [
    "dfcurrency = spark.read.csv(currency, header=True, inferSchema=True)\n",
    "dfcustomers = spark.read.csv(customers, header=True, inferSchema=True)\n",
    "dfdates = spark.read.csv(dates, header=True, inferSchema=True)\n",
    "dfproducts = spark.read.csv(product, header=True, inferSchema=True)\n",
    "dfsales = spark.read.csv(intsales, header=True, inferSchema=True)"
   ]
  },
  {
   "cell_type": "code",
   "execution_count": 100,
   "metadata": {},
   "outputs": [
    {
     "name": "stdout",
     "output_type": "stream",
     "text": [
      "+-----------+--------------------+--------------+\n",
      "|CurrencyKey|CurrencyAlternateKey|  CurrencyName|\n",
      "+-----------+--------------------+--------------+\n",
      "|          1|                 AFA|       Afghani|\n",
      "|          2|                 DZD|Algerian Dinar|\n",
      "+-----------+--------------------+--------------+\n",
      "only showing top 2 rows\n",
      "\n",
      "+-----------+---------+----------+--------+---------+----------+-------------+------+------+--------------------+------------+-------------+---------------+------------+-------------------+\n",
      "|CustomerKey|FirstName|MiddleName|LastName|NameStyle| BirthDate|MaritalStatus|Suffix|Gender|        EmailAddress|YearlyIncome|TotalChildren|   AddressLine1|AddressLine2|              Phone|\n",
      "+-----------+---------+----------+--------+---------+----------+-------------+------+------+--------------------+------------+-------------+---------------+------------+-------------------+\n",
      "|      11000|      Jon|         V|    Yang|    false|1971-10-06|            M|  NULL|     M|jon24@adventure-w...|     90000.0|            2|3761 N. 14th St|        NULL|1 (11) 500 555-0162|\n",
      "|      11001|   Eugene|         L|   Huang|    false|1976-05-10|            S|  NULL|     M|eugene10@adventur...|     60000.0|            3|     2243 W St.|        NULL|1 (11) 500 555-0110|\n",
      "+-----------+---------+----------+--------+---------+----------+-------------+------+------+--------------------+------------+-------------+---------------+------------+-------------------+\n",
      "only showing top 2 rows\n",
      "\n",
      "+--------+--------------------+---------------+--------------------+--------------------+----------------+---------------+----------------+----------------+----------------+-----------------+---------------+------------+----------------+-------------+----------+--------------+\n",
      "| DateKey|FullDateAlternateKey|DayNumberOfWeek|EnglishDayNameOfWeek|SpanishDayNameOfWeek|DayNumberOfMonth|DayNumberOfYear|WeekNumberOfYear|EnglishMonthName|SpanishMonthName|MonthNumberOfYear|CalendarQuarter|CalendarYear|CalendarSemester|FiscalQuarter|FiscalYear|FiscalSemester|\n",
      "+--------+--------------------+---------------+--------------------+--------------------+----------------+---------------+----------------+----------------+----------------+-----------------+---------------+------------+----------------+-------------+----------+--------------+\n",
      "|20050101|          2005-01-01|              7|            Saturday|              Sábado|               1|              1|               1|         January|           Enero|                1|              1|        2005|               1|            3|      2005|             2|\n",
      "|20050102|          2005-01-02|              1|              Sunday|             Domingo|               2|              2|               2|         January|           Enero|                1|              1|        2005|               1|            3|      2005|             2|\n",
      "+--------+--------------------+---------------+--------------------+--------------------+----------------+---------------+----------------+----------------+----------------+-----------------+---------------+------------+----------------+-------------+----------+--------------+\n",
      "only showing top 2 rows\n",
      "\n",
      "+----------+-------------------+------------------+------------------+-----+---------+----+------+-----------------+-------+\n",
      "|ProductKey|ProductAlternateKey|EnglishProductName|SpanishProductName|Color|ListPrice|Size|Weight|DaysToManufacture| Status|\n",
      "+----------+-------------------+------------------+------------------+-----+---------+----+------+-----------------+-------+\n",
      "|         1|            AR-5381|   Adjustable Race|              NULL|   NA|     NULL|NULL|  NULL|                0|Current|\n",
      "|         2|            BA-8327|      Bearing Ball|              NULL|   NA|     NULL|NULL|  NULL|                0|Current|\n",
      "+----------+-------------------+------------------+------------------+-----+---------+----+------+-----------------+-------+\n",
      "only showing top 2 rows\n",
      "\n",
      "+----------+------------+-----------+-----------+-------------+---------+--------------+--------------------+--------------+-------------------+----------------+-----------+--------+-------+\n",
      "|ProductKey|OrderDateKey|CustomerKey|CurrencyKey|OrderQuantity|UnitPrice|ExtendedAmount|UnitPriceDiscountPct|DiscountAmount|ProductStandardCost|TotalProductCost|SalesAmount|  TaxAmt|Freight|\n",
      "+----------+------------+-----------+-----------+-------------+---------+--------------+--------------------+--------------+-------------------+----------------+-----------+--------+-------+\n",
      "|       310|    20101229|      21768|         19|            1|  3578.27|       3578.27|                 0.0|           0.0|          2171.2942|       2171.2942|    3578.27|286.2616|89.4568|\n",
      "|       346|    20101229|      28389|         39|            1|  3399.99|       3399.99|                 0.0|           0.0|          1912.1544|       1912.1544|    3399.99|271.9992|84.9998|\n",
      "+----------+------------+-----------+-----------+-------------+---------+--------------+--------------------+--------------+-------------------+----------------+-----------+--------+-------+\n",
      "only showing top 2 rows\n",
      "\n"
     ]
    }
   ],
   "source": [
    "dfcurrency.show(2)\n",
    "dfcustomers.show(2)\n",
    "dfdates.show(2)\n",
    "dfproducts.show(2)\n",
    "dfsales.show(2)"
   ]
  },
  {
   "cell_type": "markdown",
   "metadata": {},
   "source": [
    "#### **Date regulation**"
   ]
  },
  {
   "cell_type": "code",
   "execution_count": 101,
   "metadata": {},
   "outputs": [],
   "source": [
    "dfdates = dfdates.filter(col('EnglishDayNameOfWeek')=='Sunday')"
   ]
  },
  {
   "cell_type": "markdown",
   "metadata": {},
   "source": [
    "#### **Product Regulation**\n",
    "Include only products where:- `Color` is **Silver**.\n",
    "- Has **Size** information.\n",
    "- `Weight` is greater than **10**."
   ]
  },
  {
   "cell_type": "code",
   "execution_count": 102,
   "metadata": {},
   "outputs": [
    {
     "name": "stdout",
     "output_type": "stream",
     "text": [
      "+----------+-------------------+--------------------+--------------------+------+---------+----+------+-----------------+-------+\n",
      "|ProductKey|ProductAlternateKey|  EnglishProductName|  SpanishProductName| Color|ListPrice|Size|Weight|DaysToManufacture| Status|\n",
      "+----------+-------------------+--------------------+--------------------+------+---------+----+------+-----------------+-------+\n",
      "|       344|         BK-M82S-38|Mountain-100 Silv...|Montaña: 100, pla...|Silver|  3399.99|  38| 20.35|                4|   NULL|\n",
      "|       345|         BK-M82S-42|Mountain-100 Silv...|Montaña: 100, pla...|Silver|  3399.99|  42| 20.77|                4|   NULL|\n",
      "|       346|         BK-M82S-44|Mountain-100 Silv...|Montaña: 100, pla...|Silver|  3399.99|  44| 21.13|                4|   NULL|\n",
      "|       347|         BK-M82S-48|Mountain-100 Silv...|Montaña: 100, pla...|Silver|  3399.99|  48| 21.42|                4|   NULL|\n",
      "|       352|         BK-M68S-38|Mountain-200 Silv...|Montaña: 200, pla...|Silver|2071.4196|  38| 23.35|                4|   NULL|\n",
      "|       353|         BK-M68S-38|Mountain-200 Silv...|Montaña: 200, pla...|Silver|  2319.99|  38| 23.35|                4|Current|\n",
      "|       354|         BK-M68S-42|Mountain-200 Silv...|Montaña: 200, pla...|Silver|2071.4196|  42| 23.77|                4|   NULL|\n",
      "|       355|         BK-M68S-42|Mountain-200 Silv...|Montaña: 200, pla...|Silver|  2319.99|  42| 23.77|                4|Current|\n",
      "|       356|         BK-M68S-46|Mountain-200 Silv...|Montaña: 200, pla...|Silver|2071.4196|  46| 24.13|                4|   NULL|\n",
      "|       357|         BK-M68S-46|Mountain-200 Silv...|Montaña: 200, pla...|Silver|  2319.99|  46| 24.13|                4|Current|\n",
      "+----------+-------------------+--------------------+--------------------+------+---------+----+------+-----------------+-------+\n",
      "only showing top 10 rows\n",
      "\n"
     ]
    }
   ],
   "source": [
    "dfproducts = dfproducts.filter((col('Color') == 'Silver') & (col('Size').isNotNull()) & (col('Weight')>10))\n",
    "dfproducts.show(10)"
   ]
  },
  {
   "cell_type": "markdown",
   "metadata": {},
   "source": [
    "#### **Customer regulations**\n",
    "Include customers who:- Have a `YearlyIncome` greater than **100,000.0**.\n",
    "- Have more than **1 child**.\n"
   ]
  },
  {
   "cell_type": "code",
   "execution_count": 103,
   "metadata": {},
   "outputs": [
    {
     "name": "stdout",
     "output_type": "stream",
     "text": [
      "+-----------+---------+----------+--------+---------+----------+-------------+------+------+--------------------+------------+-------------+---------------+------------+-------------------+\n",
      "|CustomerKey|FirstName|MiddleName|LastName|NameStyle| BirthDate|MaritalStatus|Suffix|Gender|        EmailAddress|YearlyIncome|TotalChildren|   AddressLine1|AddressLine2|              Phone|\n",
      "+-----------+---------+----------+--------+---------+----------+-------------+------+------+--------------------+------------+-------------+---------------+------------+-------------------+\n",
      "|      11000|      Jon|         V|    Yang|    false|1971-10-06|            M|  NULL|     M|jon24@adventure-w...|     90000.0|            2|3761 N. 14th St|        NULL|1 (11) 500 555-0162|\n",
      "|      11001|   Eugene|         L|   Huang|    false|1976-05-10|            S|  NULL|     M|eugene10@adventur...|     60000.0|            3|     2243 W St.|        NULL|1 (11) 500 555-0110|\n",
      "+-----------+---------+----------+--------+---------+----------+-------------+------+------+--------------------+------------+-------------+---------------+------------+-------------------+\n",
      "only showing top 2 rows\n",
      "\n"
     ]
    }
   ],
   "source": [
    "dfcustomers.show(2)"
   ]
  },
  {
   "cell_type": "code",
   "execution_count": 104,
   "metadata": {},
   "outputs": [],
   "source": [
    "dfcustomers = dfcustomers.filter((col('YearlyIncome') >100_000) & (col('TotalChildren') == 1))\n"
   ]
  },
  {
   "cell_type": "markdown",
   "metadata": {},
   "source": [
    "#### **Merging data frames**"
   ]
  },
  {
   "cell_type": "code",
   "execution_count": 105,
   "metadata": {},
   "outputs": [
    {
     "name": "stdout",
     "output_type": "stream",
     "text": [
      "+-----------+-----------+----------+-------------------+-----------------------+--------------------------+------+---------+----+------+-----------------+------+------------+-------------+---------+--------------+--------------------+--------------+-------------------+----------------+-----------+--------+-------+---------+----------+--------+---------+----------+-------------+------+------+-----------------------------+------------+-------------+--------------------+------------+-------------------+--------------------+-----------------+--------+--------------------+---------------+--------------------+--------------------+----------------+---------------+----------------+----------------+----------------+-----------------+---------------+------------+----------------+-------------+----------+--------------+\n",
      "|CurrencyKey|CustomerKey|ProductKey|ProductAlternateKey|EnglishProductName     |SpanishProductName        |Color |ListPrice|Size|Weight|DaysToManufacture|Status|OrderDateKey|OrderQuantity|UnitPrice|ExtendedAmount|UnitPriceDiscountPct|DiscountAmount|ProductStandardCost|TotalProductCost|SalesAmount|TaxAmt  |Freight|FirstName|MiddleName|LastName|NameStyle|BirthDate |MaritalStatus|Suffix|Gender|EmailAddress                 |YearlyIncome|TotalChildren|AddressLine1        |AddressLine2|Phone              |CurrencyAlternateKey|CurrencyName     |DateKey |FullDateAlternateKey|DayNumberOfWeek|EnglishDayNameOfWeek|SpanishDayNameOfWeek|DayNumberOfMonth|DayNumberOfYear|WeekNumberOfYear|EnglishMonthName|SpanishMonthName|MonthNumberOfYear|CalendarQuarter|CalendarYear|CalendarSemester|FiscalQuarter|FiscalYear|FiscalSemester|\n",
      "+-----------+-----------+----------+-------------------+-----------------------+--------------------------+------+---------+----+------+-----------------+------+------------+-------------+---------+--------------+--------------------+--------------+-------------------+----------------+-----------+--------+-------+---------+----------+--------+---------+----------+-------------+------+------+-----------------------------+------------+-------------+--------------------+------------+-------------------+--------------------+-----------------+--------+--------------------+---------------+--------------------+--------------------+----------------+---------------+----------------+----------------+----------------+-----------------+---------------+------------+----------------+-------------+----------+--------------+\n",
      "|6          |14673      |354       |BK-M68S-42         |Mountain-200 Silver, 42|Montaña: 200, plateada, 42|Silver|2071.4196|42  |23.77 |4                |NULL  |20120909    |1            |2071.4196|2071.4196     |0.0                 |0.0           |1117.8559          |1117.8559       |2071.4196  |165.7136|51.7855|Willie   |NULL      |Rai     |false    |1974-12-21|M            |NULL  |M     |willie37@adventure-works.com |110000.0    |1            |174 Cedar Point Loop|NULL        |1 (11) 500 555-0191|AUD                 |Australian Dollar|20120909|2012-09-09          |1              |Sunday              |Domingo             |9               |253            |37              |September       |Septiembre      |9                |3              |2012        |2               |1            |2012      |1             |\n",
      "|6          |15587      |354       |BK-M68S-42         |Mountain-200 Silver, 42|Montaña: 200, plateada, 42|Silver|2071.4196|42  |23.77 |4                |NULL  |20121118    |1            |2071.4196|2071.4196     |0.0                 |0.0           |1117.8559          |1117.8559       |2071.4196  |165.7136|51.7855|Jessica  |NULL      |Ward    |false    |1980-10-10|M            |NULL  |F     |jessica15@adventure-works.com|110000.0    |1            |7420 Lilac Circle   |NULL        |1 (11) 500 555-0139|AUD                 |Australian Dollar|20121118|2012-11-18          |1              |Sunday              |Domingo             |18              |323            |47              |November        |Noviembre       |11               |4              |2012        |2               |2            |2012      |1             |\n",
      "+-----------+-----------+----------+-------------------+-----------------------+--------------------------+------+---------+----+------+-----------------+------+------------+-------------+---------+--------------+--------------------+--------------+-------------------+----------------+-----------+--------+-------+---------+----------+--------+---------+----------+-------------+------+------+-----------------------------+------------+-------------+--------------------+------------+-------------------+--------------------+-----------------+--------+--------------------+---------------+--------------------+--------------------+----------------+---------------+----------------+----------------+----------------+-----------------+---------------+------------+----------------+-------------+----------+--------------+\n",
      "only showing top 2 rows\n",
      "\n"
     ]
    }
   ],
   "source": [
    "dff = (dfproducts\n",
    "          .join(dfsales, on=\"ProductKey\", how=\"inner\")\n",
    "          .join(dfcustomers, on=\"CustomerKey\", how=\"inner\")\n",
    "          .join(dfcurrency, on=\"CurrencyKey\", how=\"inner\")\n",
    "          .join(dfdates, dfsales.OrderDateKey == dfdates.DateKey, how=\"inner\"))\n",
    "\n",
    "dff.show(2, truncate=False)\n"
   ]
  },
  {
   "cell_type": "markdown",
   "metadata": {},
   "source": [
    "#### **Aggregations**"
   ]
  },
  {
   "cell_type": "code",
   "execution_count": 112,
   "metadata": {},
   "outputs": [
    {
     "name": "stdout",
     "output_type": "stream",
     "text": [
      "+-----------+---------+------------+-------------------+------------------------+\n",
      "|CustomerKey|FirstName|Total TaxAmt|Average SalesAmount|Average TotalProductCost|\n",
      "+-----------+---------+------------+-------------------+------------------------+\n",
      "|15587      |Jessica  |165.7136    |2071.4196          |1117.8559               |\n",
      "|19696      |Adam     |45.1992     |564.99             |308.2179                |\n",
      "|11290      |Katelyn  |185.5992    |2319.99            |1265.6195               |\n",
      "|14673      |Willie   |165.7136    |2071.4196          |1117.8559               |\n",
      "|15586      |Victor   |185.5992    |2319.99            |1265.6195               |\n",
      "|14433      |Jennifer |185.5992    |2319.99            |1265.6195               |\n",
      "+-----------+---------+------------+-------------------+------------------------+\n",
      "\n"
     ]
    }
   ],
   "source": [
    "newdff = (dff.groupBy(\"CustomerKey\", \"FirstName\") \n",
    "             .agg(\n",
    "                 func.sum(\"TaxAmt\").alias(\"Total TaxAmt\"),\n",
    "                 func.avg(\"SalesAmount\").alias(\"Average SalesAmount\"),\n",
    "                 func.avg(\"TotalProductCost\").alias(\"Average TotalProductCost\") \n",
    "             ))\n",
    "\n",
    "newdff.show(20, truncate=False)"
   ]
  },
  {
   "cell_type": "code",
   "execution_count": 107,
   "metadata": {},
   "outputs": [
    {
     "name": "stdout",
     "output_type": "stream",
     "text": [
      "+-----------+---------+------------+-------------------+------------------------+\n",
      "|CustomerKey|FirstName|Total TaxAmt|Average SalesAmount|Average TotalProductCost|\n",
      "+-----------+---------+------------+-------------------+------------------------+\n",
      "|      19696|     Adam|     45.1992|             564.99|                308.2179|\n",
      "|      14433| Jennifer|    185.5992|            2319.99|               1265.6195|\n",
      "|      15587|  Jessica|    165.7136|          2071.4196|               1117.8559|\n",
      "|      11290|  Katelyn|    185.5992|            2319.99|               1265.6195|\n",
      "|      15586|   Victor|    185.5992|            2319.99|               1265.6195|\n",
      "|      14673|   Willie|    165.7136|          2071.4196|               1117.8559|\n",
      "+-----------+---------+------------+-------------------+------------------------+\n",
      "\n"
     ]
    }
   ],
   "source": [
    "finaldf = newdff.orderBy('FirstName', ascending = True)\n",
    "finaldf.show()\n"
   ]
  },
  {
   "cell_type": "markdown",
   "metadata": {},
   "source": [
    "#### **Data Presentation**"
   ]
  },
  {
   "cell_type": "code",
   "execution_count": 108,
   "metadata": {},
   "outputs": [
    {
     "name": "stdout",
     "output_type": "stream",
     "text": [
      "+---------+------------+-------------------+------------------------+\n",
      "|FirstName|Total TaxAmt|Average SalesAmount|Average TotalProductCost|\n",
      "+---------+------------+-------------------+------------------------+\n",
      "|     Adam|     45.1992|             564.99|                308.2179|\n",
      "| Jennifer|    185.5992|            2319.99|               1265.6195|\n",
      "|  Jessica|    165.7136|          2071.4196|               1117.8559|\n",
      "|  Katelyn|    185.5992|            2319.99|               1265.6195|\n",
      "|   Victor|    185.5992|            2319.99|               1265.6195|\n",
      "|   Willie|    165.7136|          2071.4196|               1117.8559|\n",
      "+---------+------------+-------------------+------------------------+\n",
      "\n"
     ]
    }
   ],
   "source": [
    "finaldf = finaldf.drop('CustomerKey')\n",
    "finaldf.show()"
   ]
  }
 ],
 "metadata": {
  "kernelspec": {
   "display_name": "Python 3",
   "language": "python",
   "name": "python3"
  },
  "language_info": {
   "codemirror_mode": {
    "name": "ipython",
    "version": 3
   },
   "file_extension": ".py",
   "mimetype": "text/x-python",
   "name": "python",
   "nbconvert_exporter": "python",
   "pygments_lexer": "ipython3",
   "version": "3.13.0"
  }
 },
 "nbformat": 4,
 "nbformat_minor": 2
}
