{
 "cells": [
  {
   "cell_type": "code",
   "execution_count": 2,
   "metadata": {},
   "outputs": [],
   "source": [
    "from pyspark.sql import SparkSession\n",
    "\n",
    "spark = SparkSession.builder.appName('Demo').getOrCreate()"
   ]
  },
  {
   "cell_type": "code",
   "execution_count": 3,
   "metadata": {},
   "outputs": [],
   "source": [
    "from pyspark.sql.functions import when\n",
    "from pyspark.sql.functions import col\n",
    "from pyspark.sql import functions as func"
   ]
  },
  {
   "cell_type": "code",
   "execution_count": 38,
   "metadata": {},
   "outputs": [],
   "source": [
    "currency  = 'dim_currency.csv'\n",
    "customers = 'dim_customer.csv'\n",
    "dates = 'dim_date.csv'\n",
    "product = 'dim_product.csv'\n",
    "intsales = 'fact_internet_sales.csv'"
   ]
  },
  {
   "cell_type": "code",
   "execution_count": 9,
   "metadata": {},
   "outputs": [
    {
     "name": "stdout",
     "output_type": "stream",
     "text": [
      "+----------+------------+-----------+-----------+\n",
      "|ProductKey|OrderDateKey|CustomerKey|CurrencyKey|\n",
      "+----------+------------+-----------+-----------+\n",
      "|       310|    20101229|      21768|         19|\n",
      "|       346|    20101229|      28389|         39|\n",
      "|       346|    20101229|      25863|        100|\n",
      "|       336|    20101229|      14501|        100|\n",
      "|       346|    20101229|      11003|          6|\n",
      "+----------+------------+-----------+-----------+\n",
      "only showing top 5 rows\n",
      "\n"
     ]
    }
   ],
   "source": [
    "df = spark.read.csv('fact_internet_sales.csv', header=True, inferSchema=True)\n",
    "df.select('ProductKey', 'OrderDateKey', 'CustomerKey', 'CurrencyKey').show(5)"
   ]
  },
  {
   "cell_type": "code",
   "execution_count": 12,
   "metadata": {},
   "outputs": [],
   "source": [
    "dfcurrency = spark.read.csv(currency, header=True, inferSchema=True)\n",
    "dfcustomers = spark.read.csv(customers, header=True, inferSchema=True)\n",
    "dfdates = spark.read.csv(dates, header=True, inferSchema=True)\n",
    "dfproducts = spark.read.csv(product, header=True, inferSchema=True)\n",
    "dfsales = spark.read.csv(intsales, header=True, inferSchema=True)"
   ]
  },
  {
   "cell_type": "code",
   "execution_count": 26,
   "metadata": {},
   "outputs": [
    {
     "name": "stdout",
     "output_type": "stream",
     "text": [
      "+-----------+--------------------+--------------+\n",
      "|CurrencyKey|CurrencyAlternateKey|  CurrencyName|\n",
      "+-----------+--------------------+--------------+\n",
      "|          1|                 AFA|       Afghani|\n",
      "|          2|                 DZD|Algerian Dinar|\n",
      "+-----------+--------------------+--------------+\n",
      "only showing top 2 rows\n",
      "\n"
     ]
    }
   ],
   "source": [
    "# dfcurrency.show(2)\n",
    "# dfcustomers.show()\n",
    "# dfdates.show(2)\n",
    "# dfproducts.show(2)\n",
    "# dfsales.show(2)"
   ]
  },
  {
   "cell_type": "code",
   "execution_count": null,
   "metadata": {},
   "outputs": [],
   "source": []
  },
  {
   "cell_type": "markdown",
   "metadata": {},
   "source": [
    "#### **Date regulation**"
   ]
  },
  {
   "cell_type": "code",
   "execution_count": 13,
   "metadata": {},
   "outputs": [],
   "source": [
    "dfdates = dfdates.filter(col('EnglishDayNameOfWeek')=='Sunday')"
   ]
  },
  {
   "cell_type": "markdown",
   "metadata": {},
   "source": [
    "#### **Product Regulation**\n",
    "Include only products where:\n",
    "- `Color` is **Silver**.\n",
    "- Has **Size** information.\n",
    "- `Weight` is greater than **10**."
   ]
  },
  {
   "cell_type": "code",
   "execution_count": 14,
   "metadata": {},
   "outputs": [
    {
     "name": "stdout",
     "output_type": "stream",
     "text": [
      "+----------+------+----+------+\n",
      "|ProductKey| Color|Size|Weight|\n",
      "+----------+------+----+------+\n",
      "|       344|Silver|  38| 20.35|\n",
      "|       345|Silver|  42| 20.77|\n",
      "|       346|Silver|  44| 21.13|\n",
      "|       347|Silver|  48| 21.42|\n",
      "|       352|Silver|  38| 23.35|\n",
      "|       353|Silver|  38| 23.35|\n",
      "|       354|Silver|  42| 23.77|\n",
      "|       355|Silver|  42| 23.77|\n",
      "|       356|Silver|  46| 24.13|\n",
      "|       357|Silver|  46| 24.13|\n",
      "+----------+------+----+------+\n",
      "only showing top 10 rows\n",
      "\n"
     ]
    }
   ],
   "source": [
    "dfproducts = dfproducts.filter((col('Color') == 'Silver') & (col('Size').isNotNull()) & (col('Weight')>10))\n",
    "dfproducts.select('ProductKey', 'Color', 'Size', 'Weight' ).show(10)"
   ]
  },
  {
   "cell_type": "markdown",
   "metadata": {},
   "source": [
    "#### **Customer regulations**\n",
    "Include customers who:\n",
    "- Have a `YearlyIncome` greater than **100,000.0**.\n",
    "- Have more than **1 child**.\n"
   ]
  },
  {
   "cell_type": "code",
   "execution_count": 16,
   "metadata": {},
   "outputs": [
    {
     "name": "stdout",
     "output_type": "stream",
     "text": [
      "+-----------+---------+----------+--------+---------+----------+-------------+------+------+--------------------+------------+-------------+---------------+------------+-------------------+\n",
      "|CustomerKey|FirstName|MiddleName|LastName|NameStyle| BirthDate|MaritalStatus|Suffix|Gender|        EmailAddress|YearlyIncome|TotalChildren|   AddressLine1|AddressLine2|              Phone|\n",
      "+-----------+---------+----------+--------+---------+----------+-------------+------+------+--------------------+------------+-------------+---------------+------------+-------------------+\n",
      "|      11000|      Jon|         V|    Yang|    false|1971-10-06|            M|  NULL|     M|jon24@adventure-w...|     90000.0|            2|3761 N. 14th St|        NULL|1 (11) 500 555-0162|\n",
      "|      11001|   Eugene|         L|   Huang|    false|1976-05-10|            S|  NULL|     M|eugene10@adventur...|     60000.0|            3|     2243 W St.|        NULL|1 (11) 500 555-0110|\n",
      "+-----------+---------+----------+--------+---------+----------+-------------+------+------+--------------------+------------+-------------+---------------+------------+-------------------+\n",
      "only showing top 2 rows\n",
      "\n"
     ]
    }
   ],
   "source": [
    "dfcustomers.show(2)"
   ]
  },
  {
   "cell_type": "code",
   "execution_count": 37,
   "metadata": {},
   "outputs": [
    {
     "name": "stdout",
     "output_type": "stream",
     "text": [
      "+-----------+----------+--------+------------+-------------+\n",
      "|CustomerKey| FirstName|LastName|YearlyIncome|TotalChildren|\n",
      "+-----------+----------+--------+------------+-------------+\n",
      "|      11180|     April|   Anand|    160000.0|            1|\n",
      "|      11257|Jacqueline|  Powell|    120000.0|            1|\n",
      "|      11258|    Xavier|    Hill|    120000.0|            1|\n",
      "|      11261| Stephanie| Collins|    130000.0|            1|\n",
      "|      11283|    Arturo|     Lal|    110000.0|            1|\n",
      "|      11284|   Theresa| Serrano|    110000.0|            1|\n",
      "|      11285|    Jeremy|Anderson|    120000.0|            1|\n",
      "|      11288|     Cindy| Sanchez|    110000.0|            1|\n",
      "|      11289|     Maria|  Carter|    130000.0|            1|\n",
      "|      11290|   Katelyn| Sanchez|    130000.0|            1|\n",
      "|      11291|     Jenna|  Wright|    130000.0|            1|\n",
      "|      11292|      Seth|Phillips|    150000.0|            1|\n",
      "|      11467|    Arturo|   Zheng|    170000.0|            1|\n",
      "|      11759|      Dawn|    Nath|    110000.0|            1|\n",
      "|      11903|      Kate|    Raji|    110000.0|            1|\n",
      "|      11904|    Kaylee|    Cook|    110000.0|            1|\n",
      "|      11905|    Isaiah| Ramirez|    110000.0|            1|\n",
      "|      11976|    Audrey|   Ramos|    120000.0|            1|\n",
      "|      12060|    Andrew|   Wedge|    150000.0|            1|\n",
      "|      12061|     Bryce|  Brooks|    160000.0|            1|\n",
      "+-----------+----------+--------+------------+-------------+\n",
      "only showing top 20 rows\n",
      "\n"
     ]
    }
   ],
   "source": [
    "dfcustomers = dfcustomers.filter((col('YearlyIncome') >100_000) & (col('TotalChildren') == 1))\n",
    "dfcustomers.select('CustomerKey', 'FirstName', 'LastName', 'YearlyIncome', 'TotalChildren').show()\n",
    "\n",
    "\n"
   ]
  },
  {
   "cell_type": "code",
   "execution_count": null,
   "metadata": {},
   "outputs": [],
   "source": []
  },
  {
   "cell_type": "markdown",
   "metadata": {},
   "source": [
    "#### **Merging data frames**"
   ]
  },
  {
   "cell_type": "code",
   "execution_count": 33,
   "metadata": {},
   "outputs": [
    {
     "name": "stdout",
     "output_type": "stream",
     "text": [
      "+---------+---------+-----------+------------+-------------+----------+------+----+------+\n",
      "|FirstName|LastName |CustomerKey|YearlyIncome|TotalChildren|ProductKey|Color |Size|Weight|\n",
      "+---------+---------+-----------+------------+-------------+----------+------+----+------+\n",
      "|Willie   |Rai      |14673      |110000.0    |1            |354       |Silver|42  |23.77 |\n",
      "|Jessica  |Ward     |15587      |110000.0    |1            |354       |Silver|42  |23.77 |\n",
      "|Katelyn  |Sanchez  |11290      |130000.0    |1            |355       |Silver|42  |23.77 |\n",
      "|Adam     |Patterson|19696      |120000.0    |1            |592       |Silver|42  |27.77 |\n",
      "|Jennifer |Peterson |14433      |110000.0    |1            |357       |Silver|46  |24.13 |\n",
      "|Victor   |Blanco   |15586      |110000.0    |1            |357       |Silver|46  |24.13 |\n",
      "+---------+---------+-----------+------------+-------------+----------+------+----+------+\n",
      "\n"
     ]
    }
   ],
   "source": [
    "dff = (dfproducts\n",
    "          .join(dfsales, on=\"ProductKey\", how=\"inner\")\n",
    "          .join(dfcustomers, on=\"CustomerKey\", how=\"inner\")\n",
    "#          .join(dfcurrency, on=\"CurrencyKey\", how=\"inner\")\n",
    "          .join(dfdates, dfsales.OrderDateKey == dfdates.DateKey, how=\"inner\"))\n",
    "\n",
    "dff.select('FirstName', 'LastName', 'CustomerKey','YearlyIncome', 'TotalChildren', 'ProductKey', 'Color', 'Size', 'Weight' ).show(truncate=False)\n"
   ]
  },
  {
   "cell_type": "markdown",
   "metadata": {},
   "source": [
    "#### **Aggregations**"
   ]
  },
  {
   "cell_type": "code",
   "execution_count": 34,
   "metadata": {},
   "outputs": [
    {
     "name": "stdout",
     "output_type": "stream",
     "text": [
      "+-----------+---------+------------+-------------------+------------------------+\n",
      "|CustomerKey|FirstName|Total TaxAmt|Average SalesAmount|Average TotalProductCost|\n",
      "+-----------+---------+------------+-------------------+------------------------+\n",
      "|15587      |Jessica  |165.7136    |2071.4196          |1117.8559               |\n",
      "|19696      |Adam     |45.1992     |564.99             |308.2179                |\n",
      "|11290      |Katelyn  |185.5992    |2319.99            |1265.6195               |\n",
      "|14673      |Willie   |165.7136    |2071.4196          |1117.8559               |\n",
      "|15586      |Victor   |185.5992    |2319.99            |1265.6195               |\n",
      "|14433      |Jennifer |185.5992    |2319.99            |1265.6195               |\n",
      "+-----------+---------+------------+-------------------+------------------------+\n",
      "\n"
     ]
    }
   ],
   "source": [
    "newdff = (dff.groupBy(\"CustomerKey\", \"FirstName\") \n",
    "             .agg(\n",
    "                 func.sum(\"TaxAmt\").alias(\"Total TaxAmt\"),\n",
    "                 func.avg(\"SalesAmount\").alias(\"Average SalesAmount\"),\n",
    "                 func.avg(\"TotalProductCost\").alias(\"Average TotalProductCost\") \n",
    "             ))\n",
    "\n",
    "newdff.show(20, truncate=False)"
   ]
  },
  {
   "cell_type": "code",
   "execution_count": 35,
   "metadata": {},
   "outputs": [
    {
     "name": "stdout",
     "output_type": "stream",
     "text": [
      "+-----------+---------+------------+-------------------+------------------------+\n",
      "|CustomerKey|FirstName|Total TaxAmt|Average SalesAmount|Average TotalProductCost|\n",
      "+-----------+---------+------------+-------------------+------------------------+\n",
      "|      19696|     Adam|     45.1992|             564.99|                308.2179|\n",
      "|      14433| Jennifer|    185.5992|            2319.99|               1265.6195|\n",
      "|      15587|  Jessica|    165.7136|          2071.4196|               1117.8559|\n",
      "|      11290|  Katelyn|    185.5992|            2319.99|               1265.6195|\n",
      "|      15586|   Victor|    185.5992|            2319.99|               1265.6195|\n",
      "|      14673|   Willie|    165.7136|          2071.4196|               1117.8559|\n",
      "+-----------+---------+------------+-------------------+------------------------+\n",
      "\n"
     ]
    }
   ],
   "source": [
    "finaldf = newdff.orderBy('FirstName', ascending = True)\n",
    "finaldf.show()\n"
   ]
  },
  {
   "cell_type": "markdown",
   "metadata": {},
   "source": [
    "#### **Data Presentation**"
   ]
  },
  {
   "cell_type": "code",
   "execution_count": 36,
   "metadata": {},
   "outputs": [
    {
     "name": "stdout",
     "output_type": "stream",
     "text": [
      "+---------+------------+-------------------+------------------------+\n",
      "|FirstName|Total TaxAmt|Average SalesAmount|Average TotalProductCost|\n",
      "+---------+------------+-------------------+------------------------+\n",
      "|     Adam|     45.1992|             564.99|                308.2179|\n",
      "| Jennifer|    185.5992|            2319.99|               1265.6195|\n",
      "|  Jessica|    165.7136|          2071.4196|               1117.8559|\n",
      "|  Katelyn|    185.5992|            2319.99|               1265.6195|\n",
      "|   Victor|    185.5992|            2319.99|               1265.6195|\n",
      "|   Willie|    165.7136|          2071.4196|               1117.8559|\n",
      "+---------+------------+-------------------+------------------------+\n",
      "\n"
     ]
    }
   ],
   "source": [
    "finaldf = finaldf.drop('CustomerKey')\n",
    "finaldf.show()"
   ]
  }
 ],
 "metadata": {
  "kernelspec": {
   "display_name": "Python 3",
   "language": "python",
   "name": "python3"
  },
  "language_info": {
   "codemirror_mode": {
    "name": "ipython",
    "version": 3
   },
   "file_extension": ".py",
   "mimetype": "text/x-python",
   "name": "python",
   "nbconvert_exporter": "python",
   "pygments_lexer": "ipython3",
   "version": "3.13.0"
  }
 },
 "nbformat": 4,
 "nbformat_minor": 2
}
